{
 "cells": [
  {
   "cell_type": "markdown",
   "id": "f8c0102f-fe35-4c78-a0f9-e46e839623eb",
   "metadata": {},
   "source": [
    "\n",
    "Hola"
   ]
  },
  {
   "cell_type": "markdown",
   "id": "15c18ab2-aa5b-4a6c-a46c-8a2318efc0d3",
   "metadata": {},
   "source": [
    "# Cabecera 1\n",
    "## Cabecera 2"
   ]
  },
  {
   "cell_type": "markdown",
   "id": "ecedef70-fcf3-455b-99b1-ee870801a3ba",
   "metadata": {},
   "source": [
    "### Cabecera 3\n",
    "#### Cabecera 4\n",
    "##### Cabecera 5\n",
    "###### Cabecera 6\n",
    "####### Cabecera 7\n"
   ]
  },
  {
   "cell_type": "markdown",
   "id": "cea2359b-966e-47d9-b48e-9781c81d8abb",
   "metadata": {},
   "source": [
    "## Mis primeros paso con Markdown...\n",
    "...son muy buenos"
   ]
  },
  {
   "cell_type": "markdown",
   "id": "0c53ee6c-d3ee-4957-9075-2e2bb84500bd",
   "metadata": {},
   "source": [
    "<h1>Header 1</h1>\n",
    "<h2>Header 2</h2>\n",
    "<h3>Header 3</h3>"
   ]
  },
  {
   "cell_type": "markdown",
   "id": "71eefa05-5a8b-49a3-ba50-7a2d1837487f",
   "metadata": {},
   "source": [
    "**Texto en negrita**\n",
    "\n",
    "*Texto en cursiva*\n",
    "\n",
    "***Texto en negrita y cursiva***\n",
    "\n",
    "** No es negrita"
   ]
  },
  {
   "cell_type": "markdown",
   "id": "1246a858-26cc-434e-8a3f-d371403447b4",
   "metadata": {},
   "source": [
    ">Recuerda la importancia del conocimiento del negocio y del dominio\n",
    ">>Y utilizar atajos de teclado"
   ]
  },
  {
   "cell_type": "markdown",
   "id": "07d8b320-d2ab-40d3-b277-f05b8c4224be",
   "metadata": {},
   "source": [
    "\"En un lugar de la Mancha\"\n",
    "\n",
    "\"Veinte años después frente al pelotón de fusilamiento\""
   ]
  },
  {
   "cell_type": "markdown",
   "id": "0b711329-5a6a-46ce-917a-68712b161381",
   "metadata": {},
   "source": [
    "1. Primer elemento\n",
    "\n",
    "2. Segundo elemento"
   ]
  },
  {
   "cell_type": "markdown",
   "id": "26f57ec5-67ef-49aa-9b22-fe93071daf65",
   "metadata": {},
   "source": [
    "* Elemento 1\n",
    "* Elemento 2\n",
    "- Elemento 3\n",
    "+ Elemento 4"
   ]
  },
  {
   "cell_type": "markdown",
   "id": "038a8a71-78b2-4a56-87c3-f979b5447104",
   "metadata": {},
   "source": [
    "```Python\n",
    "variable = \"Esto es una variable\"\n",
    "```"
   ]
  },
  {
   "cell_type": "markdown",
   "id": "1efa8334-2d6e-4e01-a3f0-f0a356e6b5cc",
   "metadata": {},
   "source": [
    "***\n",
    "---"
   ]
  },
  {
   "cell_type": "markdown",
   "id": "10433fef-eb21-425d-b68c-3ec5c2ada684",
   "metadata": {},
   "source": [
    "[www.google.es].[mi_web]"
   ]
  },
  {
   "cell_type": "markdown",
   "id": "753c0dc0-d45e-4d1a-acea-df239f6f51b9",
   "metadata": {},
   "source": [
    "[mi_web]: http://www.google.es"
   ]
  },
  {
   "cell_type": "markdown",
   "id": "65cf9288-d5ff-4c0f-bbd2-6ebb435d70af",
   "metadata": {},
   "source": [
    "![esta en el mismo directorio] (./error.png)"
   ]
  },
  {
   "cell_type": "markdown",
   "id": "cef39d76-45ff-4015-8a9d-56816139e8fe",
   "metadata": {},
   "source": [
    "![este es un ejemplo de imagen que no esta en mi directorio] (./img/error.png)"
   ]
  },
  {
   "cell_type": "code",
   "execution_count": null,
   "id": "b246cf76-438f-4de6-a0b8-e6dd5d0e0273",
   "metadata": {},
   "outputs": [],
   "source": []
  },
  {
   "cell_type": "markdown",
   "id": "ad3a340c-08c7-44e6-a365-6143f85cf84f",
   "metadata": {},
   "source": [
    "![este es un ejemplo de imagen que no esta en mi directorio](./img/error.png)"
   ]
  },
  {
   "cell_type": "markdown",
   "id": "c5ddbe27-333a-4e36-b242-23c03290a8ed",
   "metadata": {},
   "source": [
    "<img src=\"./img/error.png\" width = 800>"
   ]
  }
 ],
 "metadata": {
  "kernelspec": {
   "display_name": "Python 3 (ipykernel)",
   "language": "python",
   "name": "python3"
  },
  "language_info": {
   "codemirror_mode": {
    "name": "ipython",
    "version": 3
   },
   "file_extension": ".py",
   "mimetype": "text/x-python",
   "name": "python",
   "nbconvert_exporter": "python",
   "pygments_lexer": "ipython3",
   "version": "3.10.11"
  }
 },
 "nbformat": 4,
 "nbformat_minor": 5
}
